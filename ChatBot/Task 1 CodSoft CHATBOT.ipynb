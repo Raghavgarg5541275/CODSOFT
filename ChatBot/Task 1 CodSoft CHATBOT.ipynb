{
 "cells": [
  {
   "cell_type": "code",
   "execution_count": 1,
   "id": "60ce2b13",
   "metadata": {},
   "outputs": [
    {
     "name": "stdout",
     "output_type": "stream",
     "text": [
      "Defaulting to user installation because normal site-packages is not writeable\n",
      "Requirement already satisfied: nltk in c:\\programdata\\anaconda3\\lib\\site-packages (3.7)\n",
      "Requirement already satisfied: click in c:\\programdata\\anaconda3\\lib\\site-packages (from nltk) (8.0.4)\n",
      "Requirement already satisfied: regex>=2021.8.3 in c:\\programdata\\anaconda3\\lib\\site-packages (from nltk) (2022.7.9)\n",
      "Requirement already satisfied: tqdm in c:\\programdata\\anaconda3\\lib\\site-packages (from nltk) (4.64.1)\n",
      "Requirement already satisfied: joblib in c:\\programdata\\anaconda3\\lib\\site-packages (from nltk) (1.1.0)\n",
      "Requirement already satisfied: colorama in c:\\programdata\\anaconda3\\lib\\site-packages (from click->nltk) (0.4.5)\n"
     ]
    },
    {
     "name": "stderr",
     "output_type": "stream",
     "text": [
      "[nltk_data] Downloading package punkt to\n",
      "[nltk_data]     C:\\Users\\Raghav\\AppData\\Roaming\\nltk_data...\n",
      "[nltk_data]   Unzipping tokenizers\\punkt.zip.\n",
      "[nltk_data] Downloading package stopwords to\n",
      "[nltk_data]     C:\\Users\\Raghav\\AppData\\Roaming\\nltk_data...\n",
      "[nltk_data]   Unzipping corpora\\stopwords.zip.\n"
     ]
    },
    {
     "data": {
      "text/plain": [
       "True"
      ]
     },
     "execution_count": 1,
     "metadata": {},
     "output_type": "execute_result"
    }
   ],
   "source": [
    "!pip install nltk\n",
    "import nltk\n",
    "nltk.download('punkt')\n",
    "nltk.download('stopwords')\n"
   ]
  },
  {
   "cell_type": "code",
   "execution_count": 2,
   "id": "d849afb0",
   "metadata": {},
   "outputs": [],
   "source": [
    "dialogs_file = './dialogs.txt'\n",
    "conversations = []\n",
    "with open(dialogs_file, 'r') as file:\n",
    "    lines = file.readlines()\n",
    "    for line in lines:\n",
    "        if line.strip():\n",
    "            pair = line.strip().split('\\t')\n",
    "            if len(pair) == 2:\n",
    "                conversations.append(pair)\n",
    "\n",
    "def chatbot_response(user_input):\n",
    "    for pattern, response in conversations:\n",
    "        if pattern.lower() == user_input.lower():\n",
    "            return response\n",
    "    return \"Sorry, I didn't understand that.\""
   ]
  },
  {
   "cell_type": "code",
   "execution_count": 5,
   "id": "91fe2bbd",
   "metadata": {},
   "outputs": [],
   "source": [
    "import tkinter as tk\n",
    "from tkinter import scrolledtext\n",
    "\n",
    "def send():\n",
    "    user_input = entry.get()\n",
    "    if user_input.lower() == 'exit':\n",
    "        chat.config(state=tk.NORMAL)\n",
    "        chat.insert(tk.END, \"Chatbot: Goodbye!\\n\\n\")\n",
    "        chat.config(state=tk.DISABLED)\n",
    "        entry.delete(0, tk.END)\n",
    "        entry.config(state=tk.DISABLED)\n",
    "        send_button.config(state=tk.DISABLED)\n",
    "    else:\n",
    "        response = chatbot_response(user_input)\n",
    "        chat.config(state=tk.NORMAL)\n",
    "        chat.insert(tk.END, f\"You: {user_input}\\n\")\n",
    "        chat.insert(tk.END, f\"Chatbot: {response}\\n\\n\")\n",
    "        chat.config(state=tk.DISABLED)\n",
    "        entry.delete(0, tk.END)\n",
    "\n",
    "root = tk.Tk()\n",
    "root.title(\"Simple Chatbot\")\n",
    "chat = scrolledtext.ScrolledText(root, wrap=tk.WORD, width=50, height=20)\n",
    "chat.config(state=tk.DISABLED)\n",
    "chat.pack(padx=10, pady=10)\n",
    "entry = tk.Entry(root, width=50)\n",
    "entry.pack(padx=10, pady=10)\n",
    "send_button = tk.Button(root, text=\"Send\", width=10, command=send)\n",
    "send_button.pack(pady=10)\n",
    "root.mainloop()"
   ]
  }
 ],
 "metadata": {
  "kernelspec": {
   "display_name": "Python 3 (ipykernel)",
   "language": "python",
   "name": "python3"
  },
  "language_info": {
   "codemirror_mode": {
    "name": "ipython",
    "version": 3
   },
   "file_extension": ".py",
   "mimetype": "text/x-python",
   "name": "python",
   "nbconvert_exporter": "python",
   "pygments_lexer": "ipython3",
   "version": "3.9.13"
  }
 },
 "nbformat": 4,
 "nbformat_minor": 5
}
