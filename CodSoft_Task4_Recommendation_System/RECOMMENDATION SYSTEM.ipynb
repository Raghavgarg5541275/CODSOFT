{
 "cells": [
  {
   "cell_type": "code",
   "execution_count": null,
   "id": "8f88b1a1",
   "metadata": {},
   "outputs": [],
   "source": [
    "# Collaborative Filtering:"
   ]
  },
  {
   "cell_type": "code",
   "execution_count": 10,
   "id": "ee2f0a51",
   "metadata": {},
   "outputs": [],
   "source": [
    "import tkinter as tk\n",
    "from tkinter import ttk\n",
    "import pandas as pd\n",
    "from sklearn.metrics.pairwise import cosine_similarity\n",
    "from sklearn.preprocessing import LabelEncoder"
   ]
  },
  {
   "cell_type": "code",
   "execution_count": null,
   "id": "04f5a17a",
   "metadata": {},
   "outputs": [],
   "source": [
    "movies_df = pd.read_csv('movies.csv')\n",
    "ratings_df = pd.read_csv('ratings.csv')"
   ]
  },
  {
   "cell_type": "code",
   "execution_count": null,
   "id": "4fb2d841",
   "metadata": {},
   "outputs": [],
   "source": [
    "df = pd.merge(ratings_df, movies_df, on='movieId')"
   ]
  },
  {
   "cell_type": "code",
   "execution_count": null,
   "id": "4e80c804",
   "metadata": {},
   "outputs": [],
   "source": [
    "df['genres'] = df['genres'].str.split('|')\n",
    "genres_df = df['genres'].apply(pd.Series).stack().reset_index(level=1, drop=True).astype(str)\n",
    "genres_df = pd.get_dummies(genres_df).groupby(level=0).sum()"
   ]
  },
  {
   "cell_type": "code",
   "execution_count": null,
   "id": "33f0b64f",
   "metadata": {},
   "outputs": [],
   "source": [
    "le = LabelEncoder()\n",
    "df['movieId'] = le.fit_transform(df['movieId'])\n",
    "df['userId'] = le.fit_transform(df['userId'])"
   ]
  },
  {
   "cell_type": "code",
   "execution_count": null,
   "id": "e86446bf",
   "metadata": {},
   "outputs": [],
   "source": [
    "user_item_matrix = df.pivot_table(index='userId', columns='movieId', values='rating', fill_value=0)"
   ]
  },
  {
   "cell_type": "code",
   "execution_count": null,
   "id": "ad045b23",
   "metadata": {},
   "outputs": [],
   "source": [
    "movie_similarity = cosine_similarity(user_item_matrix.T)"
   ]
  },
  {
   "cell_type": "code",
   "execution_count": null,
   "id": "a79d9862",
   "metadata": {},
   "outputs": [],
   "source": [
    "def recommend_movies(user_id, num_recommendations=5):\n",
    "    rated_movies = user_item_matrix.loc[user_id]\n",
    "    similar_movies = movie_similarity[rated_movies.index]\n",
    "    recommendation_scores = similar_movies.dot(rated_movies.values) / similar_movies.sum()\n",
    "    recommended_movie_indices = recommendation_scores.argsort()[::-1][:num_recommendations]\n",
    "    recommended_movies = movies_df.iloc[recommended_movie_indices]['title']\n",
    "    return recommended_movies.tolist()"
   ]
  },
  {
   "cell_type": "code",
   "execution_count": null,
   "id": "aaad4123",
   "metadata": {},
   "outputs": [],
   "source": [
    "def recommend_movies_gui():\n",
    "    def get_recommendations():\n",
    "        user_id = int(entry_user_id.get())\n",
    "        recommended_movies = recommend_movies(user_id)\n",
    "        recommended_movies_str.set(\"\\n\".join(recommended_movies))\n",
    "\n",
    "    root = tk.Tk()\n",
    "    root.title(\"Movie Recommendation System\")\n",
    "\n",
    "    frame = ttk.Frame(root, padding=\"20\")\n",
    "    frame.grid()\n",
    "\n",
    "    label_user_id = ttk.Label(frame, text=\"Enter User ID:\")\n",
    "    label_user_id.grid(row=0, column=0, sticky=tk.W)\n",
    "\n",
    "    entry_user_id = ttk.Entry(frame, width=10)\n",
    "    entry_user_id.grid(row=0, column=1)\n",
    "\n",
    "    button_recommend = ttk.Button(frame, text=\"Recommend Movies\", command=get_recommendations)\n",
    "    button_recommend.grid(row=1, column=0, columnspan=2, pady=10)\n",
    "\n",
    "    recommended_movies_str = tk.StringVar()\n",
    "    label_recommendations = ttk.Label(frame, textvariable=recommended_movies_str, wraplength=300, justify=tk.LEFT)\n",
    "    label_recommendations.grid(row=2, column=0, columnspan=2)\n",
    "\n",
    "    root.mainloop()"
   ]
  },
  {
   "cell_type": "code",
   "execution_count": null,
   "id": "949ede87",
   "metadata": {},
   "outputs": [],
   "source": [
    "#To get Recommendation just enter id of user:\n",
    "recommend_movies_gui()"
   ]
  },
  {
   "cell_type": "code",
   "execution_count": null,
   "id": "97dcdcab",
   "metadata": {},
   "outputs": [],
   "source": [
    "#"
   ]
  },
  {
   "cell_type": "code",
   "execution_count": null,
   "id": "074700fd",
   "metadata": {},
   "outputs": [],
   "source": [
    "#"
   ]
  },
  {
   "cell_type": "code",
   "execution_count": null,
   "id": "fa7b7639",
   "metadata": {},
   "outputs": [],
   "source": [
    "# Content-based :"
   ]
  },
  {
   "cell_type": "code",
   "execution_count": 11,
   "id": "fbbcacd7",
   "metadata": {},
   "outputs": [],
   "source": [
    "import pandas as pd\n",
    "import tkinter as tk\n",
    "from tkinter import messagebox\n",
    "from sklearn.feature_extraction.text import TfidfVectorizer\n",
    "from sklearn.neighbors import NearestNeighbors"
   ]
  },
  {
   "cell_type": "code",
   "execution_count": null,
   "id": "aadcd38b",
   "metadata": {},
   "outputs": [],
   "source": [
    "movies_df = pd.read_csv('movies.csv')\n",
    "ratings_df = pd.read_csv('ratings.csv')"
   ]
  },
  {
   "cell_type": "code",
   "execution_count": null,
   "id": "b781e921",
   "metadata": {},
   "outputs": [],
   "source": [
    "merged_df = pd.merge(ratings_df, movies_df, on='movieId')"
   ]
  },
  {
   "cell_type": "code",
   "execution_count": null,
   "id": "8ed5aca5",
   "metadata": {},
   "outputs": [],
   "source": [
    "movie_ratings = pd.DataFrame(merged_df.groupby('title')['rating'].mean())"
   ]
  },
  {
   "cell_type": "code",
   "execution_count": null,
   "id": "d23ffe9b",
   "metadata": {},
   "outputs": [],
   "source": [
    "tfidf = TfidfVectorizer(stop_words='english')\n",
    "movies_df['genres'] = movies_df['genres'].fillna('')\n",
    "tfidf_matrix = tfidf.fit_transform(movies_df['genres'])"
   ]
  },
  {
   "cell_type": "code",
   "execution_count": null,
   "id": "6cc3e738",
   "metadata": {},
   "outputs": [],
   "source": [
    "nn = NearestNeighbors(n_neighbors=10, algorithm='auto', metric='cosine')\n",
    "nn.fit(tfidf_matrix)"
   ]
  },
  {
   "cell_type": "code",
   "execution_count": null,
   "id": "c1a29294",
   "metadata": {},
   "outputs": [],
   "source": [
    "def get_recommendations(title, nn_model, movies_data, tfidf_model):\n",
    "    title_tfidf = tfidf_model.transform([title])\n",
    "    distances, indices = nn_model.kneighbors(title_tfidf)\n",
    "    recommendations = movies_data.iloc[indices[0], :]['title'].tolist()\n",
    "    return recommendations"
   ]
  },
  {
   "cell_type": "code",
   "execution_count": null,
   "id": "980db8b6",
   "metadata": {},
   "outputs": [],
   "source": [
    "def recommend_movies():\n",
    "    movie_title = entry.get()\n",
    "    if not movie_title:\n",
    "        messagebox.showwarning(\"Warning\", \"Please enter a movie title.\")\n",
    "        return\n",
    "    \n",
    "    recommendations = get_recommendations(movie_title, nn, movies_df, tfidf)\n",
    "    recommendation_text.set(f\"Recommendations for '{movie_title}':\\n\\n\" + \"\\n\".join(recommendations))"
   ]
  },
  {
   "cell_type": "code",
   "execution_count": null,
   "id": "b5317d5e",
   "metadata": {},
   "outputs": [],
   "source": [
    "root = tk.Tk()\n",
    "root.title(\"Movie Recommendation System\")"
   ]
  },
  {
   "cell_type": "code",
   "execution_count": null,
   "id": "772a30ff",
   "metadata": {},
   "outputs": [],
   "source": [
    "label = tk.Label(root, text=\"Enter a Movie Title:\")\n",
    "label.pack(pady=10)"
   ]
  },
  {
   "cell_type": "code",
   "execution_count": null,
   "id": "3dd886d7",
   "metadata": {},
   "outputs": [],
   "source": [
    "entry = tk.Entry(root, width=50)\n",
    "entry.pack()"
   ]
  },
  {
   "cell_type": "code",
   "execution_count": null,
   "id": "c279c0c8",
   "metadata": {},
   "outputs": [],
   "source": [
    "button = tk.Button(root, text=\"Get Recommendations\", command=recommend_movies)\n",
    "button.pack(pady=10)"
   ]
  },
  {
   "cell_type": "code",
   "execution_count": null,
   "id": "3f2cb753",
   "metadata": {},
   "outputs": [],
   "source": [
    "recommendation_text = tk.StringVar()\n",
    "recommendation_label = tk.Label(root, textvariable=recommendation_text, wraplength=400, justify='left')\n",
    "recommendation_label.pack(pady=10)"
   ]
  },
  {
   "cell_type": "code",
   "execution_count": null,
   "id": "865de3a6",
   "metadata": {},
   "outputs": [],
   "source": [
    "# Run to get Recommendation:\n",
    "root.mainloop()"
   ]
  }
 ],
 "metadata": {
  "kernelspec": {
   "display_name": "Python 3 (ipykernel)",
   "language": "python",
   "name": "python3"
  },
  "language_info": {
   "codemirror_mode": {
    "name": "ipython",
    "version": 3
   },
   "file_extension": ".py",
   "mimetype": "text/x-python",
   "name": "python",
   "nbconvert_exporter": "python",
   "pygments_lexer": "ipython3",
   "version": "3.9.13"
  }
 },
 "nbformat": 4,
 "nbformat_minor": 5
}
